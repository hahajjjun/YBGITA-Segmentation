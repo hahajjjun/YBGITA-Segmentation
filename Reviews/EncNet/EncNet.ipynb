{
  "nbformat": 4,
  "nbformat_minor": 0,
  "metadata": {
    "colab": {
      "name": "EncNet.ipynb",
      "provenance": []
    },
    "kernelspec": {
      "name": "python3",
      "display_name": "Python 3"
    },
    "language_info": {
      "name": "python"
    },
    "accelerator": "GPU"
  },
  "cells": [
    {
      "cell_type": "code",
      "source": [
        "!git clone https://github.com/zhanghang1989/PyTorch-Encoding"
      ],
      "metadata": {
        "colab": {
          "base_uri": "https://localhost:8080/"
        },
        "id": "ROGf0Y1Ugo0s",
        "outputId": "414f6f3c-665d-4376-8676-dee9380ccb6e"
      },
      "execution_count": 3,
      "outputs": [
        {
          "output_type": "stream",
          "name": "stdout",
          "text": [
            "Cloning into 'PyTorch-Encoding'...\n",
            "remote: Enumerating objects: 1829, done.\u001b[K\n",
            "remote: Counting objects: 100% (77/77), done.\u001b[K\n",
            "remote: Compressing objects: 100% (52/52), done.\u001b[K\n",
            "remote: Total 1829 (delta 33), reused 42 (delta 19), pack-reused 1752\u001b[K\n",
            "Receiving objects: 100% (1829/1829), 21.21 MiB | 39.06 MiB/s, done.\n",
            "Resolving deltas: 100% (1000/1000), done.\n"
          ]
        }
      ]
    },
    {
      "cell_type": "code",
      "source": [
        "pip install torch==1.4.0 torchvision==0.5.0"
      ],
      "metadata": {
        "colab": {
          "base_uri": "https://localhost:8080/"
        },
        "id": "uJc1Az-3fmKS",
        "outputId": "850e23da-0524-4f96-b052-0f8355498cfa"
      },
      "execution_count": 1,
      "outputs": [
        {
          "output_type": "stream",
          "name": "stdout",
          "text": [
            "Collecting torch==1.4.0\n",
            "  Downloading torch-1.4.0-cp37-cp37m-manylinux1_x86_64.whl (753.4 MB)\n",
            "\u001b[K     |████████████████████████████████| 753.4 MB 6.8 kB/s \n",
            "\u001b[?25hCollecting torchvision==0.5.0\n",
            "  Downloading torchvision-0.5.0-cp37-cp37m-manylinux1_x86_64.whl (4.0 MB)\n",
            "\u001b[K     |████████████████████████████████| 4.0 MB 57.5 MB/s \n",
            "\u001b[?25hRequirement already satisfied: numpy in /usr/local/lib/python3.7/dist-packages (from torchvision==0.5.0) (1.21.5)\n",
            "Requirement already satisfied: pillow>=4.1.1 in /usr/local/lib/python3.7/dist-packages (from torchvision==0.5.0) (7.1.2)\n",
            "Requirement already satisfied: six in /usr/local/lib/python3.7/dist-packages (from torchvision==0.5.0) (1.15.0)\n",
            "Installing collected packages: torch, torchvision\n",
            "  Attempting uninstall: torch\n",
            "    Found existing installation: torch 1.10.0+cu111\n",
            "    Uninstalling torch-1.10.0+cu111:\n",
            "      Successfully uninstalled torch-1.10.0+cu111\n",
            "  Attempting uninstall: torchvision\n",
            "    Found existing installation: torchvision 0.11.1+cu111\n",
            "    Uninstalling torchvision-0.11.1+cu111:\n",
            "      Successfully uninstalled torchvision-0.11.1+cu111\n",
            "\u001b[31mERROR: pip's dependency resolver does not currently take into account all the packages that are installed. This behaviour is the source of the following dependency conflicts.\n",
            "torchtext 0.11.0 requires torch==1.10.0, but you have torch 1.4.0 which is incompatible.\n",
            "torchaudio 0.10.0+cu111 requires torch==1.10.0, but you have torch 1.4.0 which is incompatible.\u001b[0m\n",
            "Successfully installed torch-1.4.0 torchvision-0.5.0\n"
          ]
        }
      ]
    },
    {
      "cell_type": "code",
      "source": [
        "!CC=clang CXX=clang++ pip install git+https://github.com/zhanghang1989/PyTorch-Encoding/"
      ],
      "metadata": {
        "colab": {
          "base_uri": "https://localhost:8080/"
        },
        "id": "1iVloMrjghx7",
        "outputId": "f132dd5c-5be3-4501-e925-10e427debe08"
      },
      "execution_count": 5,
      "outputs": [
        {
          "output_type": "stream",
          "name": "stdout",
          "text": [
            "Collecting git+https://github.com/zhanghang1989/PyTorch-Encoding/\n",
            "  Cloning https://github.com/zhanghang1989/PyTorch-Encoding/ to /tmp/pip-req-build-x36fe0z0\n",
            "  Running command git clone -q https://github.com/zhanghang1989/PyTorch-Encoding/ /tmp/pip-req-build-x36fe0z0\n",
            "Requirement already satisfied: numpy in /usr/local/lib/python3.7/dist-packages (from torch-encoding==1.2.2b20220316) (1.21.5)\n",
            "Requirement already satisfied: tqdm in /usr/local/lib/python3.7/dist-packages (from torch-encoding==1.2.2b20220316) (4.63.0)\n",
            "Collecting nose\n",
            "  Downloading nose-1.3.7-py3-none-any.whl (154 kB)\n",
            "\u001b[K     |████████████████████████████████| 154 kB 3.2 MB/s \n",
            "\u001b[?25hCollecting portalocker\n",
            "  Downloading portalocker-2.4.0-py2.py3-none-any.whl (16 kB)\n",
            "Requirement already satisfied: torch>=1.4.0 in /usr/local/lib/python3.7/dist-packages (from torch-encoding==1.2.2b20220316) (1.4.0)\n",
            "Requirement already satisfied: torchvision>=0.5.0 in /usr/local/lib/python3.7/dist-packages (from torch-encoding==1.2.2b20220316) (0.5.0)\n",
            "Requirement already satisfied: Pillow in /usr/local/lib/python3.7/dist-packages (from torch-encoding==1.2.2b20220316) (7.1.2)\n",
            "Requirement already satisfied: scipy in /usr/local/lib/python3.7/dist-packages (from torch-encoding==1.2.2b20220316) (1.4.1)\n",
            "Requirement already satisfied: requests in /usr/local/lib/python3.7/dist-packages (from torch-encoding==1.2.2b20220316) (2.23.0)\n",
            "Requirement already satisfied: six in /usr/local/lib/python3.7/dist-packages (from torchvision>=0.5.0->torch-encoding==1.2.2b20220316) (1.15.0)\n",
            "Requirement already satisfied: urllib3!=1.25.0,!=1.25.1,<1.26,>=1.21.1 in /usr/local/lib/python3.7/dist-packages (from requests->torch-encoding==1.2.2b20220316) (1.24.3)\n",
            "Requirement already satisfied: chardet<4,>=3.0.2 in /usr/local/lib/python3.7/dist-packages (from requests->torch-encoding==1.2.2b20220316) (3.0.4)\n",
            "Requirement already satisfied: certifi>=2017.4.17 in /usr/local/lib/python3.7/dist-packages (from requests->torch-encoding==1.2.2b20220316) (2021.10.8)\n",
            "Requirement already satisfied: idna<3,>=2.5 in /usr/local/lib/python3.7/dist-packages (from requests->torch-encoding==1.2.2b20220316) (2.10)\n",
            "Building wheels for collected packages: torch-encoding\n",
            "  Building wheel for torch-encoding (setup.py) ... \u001b[?25l\u001b[?25hdone\n",
            "  Created wheel for torch-encoding: filename=torch_encoding-1.2.2b20220316-cp37-cp37m-linux_x86_64.whl size=3079789 sha256=a6401fd8d638615b008c1d69902a3836930641f54084843227373092e81379de\n",
            "  Stored in directory: /tmp/pip-ephem-wheel-cache-6btzwa5d/wheels/d4/83/00/5a9524a23f206528125bf76110b7304681afa76adbba084b5c\n",
            "Successfully built torch-encoding\n",
            "Installing collected packages: portalocker, nose, torch-encoding\n",
            "Successfully installed nose-1.3.7 portalocker-2.4.0 torch-encoding-1.2.2b20220316\n"
          ]
        }
      ]
    },
    {
      "cell_type": "code",
      "source": [
        "import torch\n",
        "import encoding\n",
        "\n",
        "# Get the model\n",
        "model = encoding.models.get_model('Encnet_ResNet50s_PContext', pretrained=True).cuda()\n",
        "model.eval()\n",
        "\n",
        "# Prepare the image\n",
        "url = 'https://github.com/zhanghang1989/image-data/blob/master/' + \\\n",
        "      'encoding/segmentation/pcontext/2010_001829_org.jpg?raw=true'\n",
        "filename = 'example.jpg'\n",
        "img = encoding.utils.load_image(\n",
        "    encoding.utils.download(url, filename)).cuda().unsqueeze(0)\n",
        "\n",
        "# Make prediction\n",
        "output = model.evaluate(img)\n",
        "predict = torch.max(output, 1)[1].cpu().numpy() + 1\n",
        "\n",
        "# Get color pallete for visualization\n",
        "mask = encoding.utils.get_mask_pallete(predict, 'pascal_voc')\n",
        "mask.save('output_true.png')"
      ],
      "metadata": {
        "id": "pkiMli8hhHjo"
      },
      "execution_count": 82,
      "outputs": []
    },
    {
      "cell_type": "code",
      "source": [
        "pip install torchviz"
      ],
      "metadata": {
        "colab": {
          "base_uri": "https://localhost:8080/"
        },
        "id": "foYJ9_wsjxKQ",
        "outputId": "a1b5a452-1fdb-458a-9bb7-5cb76c1cded4"
      },
      "execution_count": 9,
      "outputs": [
        {
          "output_type": "stream",
          "name": "stdout",
          "text": [
            "Collecting torchviz\n",
            "  Downloading torchviz-0.0.2.tar.gz (4.9 kB)\n",
            "Requirement already satisfied: torch in /usr/local/lib/python3.7/dist-packages (from torchviz) (1.4.0)\n",
            "Requirement already satisfied: graphviz in /usr/local/lib/python3.7/dist-packages (from torchviz) (0.10.1)\n",
            "Building wheels for collected packages: torchviz\n",
            "  Building wheel for torchviz (setup.py) ... \u001b[?25l\u001b[?25hdone\n",
            "  Created wheel for torchviz: filename=torchviz-0.0.2-py3-none-any.whl size=4150 sha256=3ca5ce036602aeb575130142293dbc3aa9759a7f0e0ea94c405a540cde797aeb\n",
            "  Stored in directory: /root/.cache/pip/wheels/04/38/f5/dc4f85c3909051823df49901e72015d2d750bd26b086480ec2\n",
            "Successfully built torchviz\n",
            "Installing collected packages: torchviz\n",
            "Successfully installed torchviz-0.0.2\n"
          ]
        }
      ]
    },
    {
      "cell_type": "code",
      "source": [
        "from torchviz import make_dot\n",
        "\n",
        "make_dot(output, params=dict(list(model.named_parameters()))).render(\"rnn_torchviz\", format=\"png\")"
      ],
      "metadata": {
        "colab": {
          "base_uri": "https://localhost:8080/",
          "height": 35
        },
        "id": "9-_AlWfoi2fo",
        "outputId": "1a10becf-34ea-449f-a29c-9d25f9e10093"
      },
      "execution_count": 11,
      "outputs": [
        {
          "output_type": "execute_result",
          "data": {
            "text/plain": [
              "'rnn_torchviz.png'"
            ],
            "application/vnd.google.colaboratory.intrinsic+json": {
              "type": "string"
            }
          },
          "metadata": {},
          "execution_count": 11
        }
      ]
    },
    {
      "cell_type": "code",
      "source": [
        "import matplotlib.pyplot as plt\n",
        "plt.imshow(encoding.utils.load_image(\n",
        "    encoding.utils.download(url, filename)).reshape(333, 500, 3))"
      ],
      "metadata": {
        "colab": {
          "base_uri": "https://localhost:8080/",
          "height": 306
        },
        "id": "cUsJDutwvwKb",
        "outputId": "92e30f31-747b-4260-bafa-5bd64aa48ac5"
      },
      "execution_count": 59,
      "outputs": [
        {
          "output_type": "stream",
          "name": "stderr",
          "text": [
            "Clipping input data to the valid range for imshow with RGB data ([0..1] for floats or [0..255] for integers).\n"
          ]
        },
        {
          "output_type": "execute_result",
          "data": {
            "text/plain": [
              "<matplotlib.image.AxesImage at 0x7fd8124c9910>"
            ]
          },
          "metadata": {},
          "execution_count": 59
        },
        {
          "output_type": "display_data",
          "data": {
            "text/plain": [
              "<Figure size 432x288 with 1 Axes>"
            ],
            "image/png": "[encoded data removed]"
          },
          "metadata": {
            "needs_background": "light"
          }
        }
      ]
    },
    {
      "cell_type": "markdown",
      "source": [
        "### ResNet"
      ],
      "metadata": {
        "id": "-C8XfnOE-Wjp"
      }
    },
    {
      "cell_type": "code",
      "source": [
        "img.size()"
      ],
      "metadata": {
        "colab": {
          "base_uri": "https://localhost:8080/"
        },
        "id": "JKgsB3m8RCm3",
        "outputId": "f8c51062-3089-4a19-e7f8-e6b794572f5e"
      },
      "execution_count": 191,
      "outputs": [
        {
          "output_type": "execute_result",
          "data": {
            "text/plain": [
              "torch.Size([1, 3, 333, 500])"
            ]
          },
          "metadata": {},
          "execution_count": 191
        }
      ]
    },
    {
      "cell_type": "code",
      "source": [
        "imsize = img.size()[2:]\n",
        "features = model.base_forward(img)"
      ],
      "metadata": {
        "id": "YZ-qLGWBrhcp"
      },
      "execution_count": 89,
      "outputs": []
    },
    {
      "cell_type": "code",
      "source": [
        "for i in features:\n",
        "  print(i.shape)"
      ],
      "metadata": {
        "colab": {
          "base_uri": "https://localhost:8080/"
        },
        "id": "KIl-sDr9sAQ4",
        "outputId": "ae8d554e-8879-4727-e9d4-bc5b935550f8"
      },
      "execution_count": 38,
      "outputs": [
        {
          "output_type": "stream",
          "name": "stdout",
          "text": [
            "torch.Size([1, 256, 84, 125])\n",
            "torch.Size([1, 512, 42, 63])\n",
            "torch.Size([1, 1024, 42, 63])\n",
            "torch.Size([1, 2048, 42, 63])\n"
          ]
        }
      ]
    },
    {
      "cell_type": "markdown",
      "source": [
        "### EncHead\n",
        "\n",
        "준비물: features\n",
        "\n",
        "ResNet에서 받아온 c1, c2, c3, c4를 이용함"
      ],
      "metadata": {
        "id": "ua0TKHlk04Dr"
      }
    },
    {
      "cell_type": "code",
      "source": [
        "feat = model.head.conv5(features[-1])\n",
        "\n",
        "print(feat.shape)"
      ],
      "metadata": {
        "colab": {
          "base_uri": "https://localhost:8080/"
        },
        "id": "sWmCxJAW08Kn",
        "outputId": "5e84b14c-1b20-40be-9b1c-f7e68b0f9fad"
      },
      "execution_count": 174,
      "outputs": [
        {
          "output_type": "stream",
          "name": "stdout",
          "text": [
            "torch.Size([1, 512, 42, 63])\n"
          ]
        }
      ]
    },
    {
      "cell_type": "markdown",
      "source": [
        "먼저 맨 마지막 conv layer을 가져다가 convolution 진행"
      ],
      "metadata": {
        "id": "FPLY0TCQ9n4a"
      }
    },
    {
      "cell_type": "code",
      "source": [
        "c2 = model.head.connect[0](features[1])\n",
        "c3 = model.head.connect[1](features[2])\n",
        "\n",
        "feat = model.head.fusion(torch.cat([feat, c2, c3], 1))\n",
        "\n",
        "print(c2.shape)"
      ],
      "metadata": {
        "colab": {
          "base_uri": "https://localhost:8080/"
        },
        "id": "k8aEvEJ68SFq",
        "outputId": "978f6238-2da9-4a23-91b7-b64fe758c856"
      },
      "execution_count": 175,
      "outputs": [
        {
          "output_type": "stream",
          "name": "stdout",
          "text": [
            "torch.Size([1, 512, 42, 63])\n"
          ]
        }
      ]
    },
    {
      "cell_type": "markdown",
      "source": [
        "그 후 c2, c3과 같이 Conv2d, norm_layer, ReLU로 합침"
      ],
      "metadata": {
        "id": "-HL3FmDt-BiL"
      }
    },
    {
      "cell_type": "markdown",
      "source": [
        "### EncModule"
      ],
      "metadata": {
        "id": "vk4pviH_-Rb6"
      }
    },
    {
      "cell_type": "code",
      "source": [
        "model.head.encmodule"
      ],
      "metadata": {
        "colab": {
          "base_uri": "https://localhost:8080/"
        },
        "id": "rWMOIWhyL0fw",
        "outputId": "e0291ecc-50e7-403c-ff25-9643494c229b"
      },
      "execution_count": 176,
      "outputs": [
        {
          "output_type": "execute_result",
          "data": {
            "text/plain": [
              "EncModule(\n",
              "  (encoding): Sequential(\n",
              "    (0): Conv2d(512, 512, kernel_size=(1, 1), stride=(1, 1), bias=False)\n",
              "    (1): SyncBatchNorm(sync=False)\n",
              "    (2): ReLU(inplace=True)\n",
              "    (3): Encoding(N x 512=>32x512)\n",
              "    (4): SyncBatchNorm(sync=False)\n",
              "    (5): ReLU(inplace=True)\n",
              "    (6): Mean()\n",
              "  )\n",
              "  (fc): Sequential(\n",
              "    (0): Linear(in_features=512, out_features=512, bias=True)\n",
              "    (1): Sigmoid()\n",
              "  )\n",
              "  (selayer): Linear(in_features=512, out_features=59, bias=True)\n",
              ")"
            ]
          },
          "metadata": {},
          "execution_count": 176
        }
      ]
    },
    {
      "cell_type": "code",
      "source": [
        "# ReLU 까지\n",
        "en = model.head.encmodule.encoding[:3](feat)\n",
        "en.shape"
      ],
      "metadata": {
        "colab": {
          "base_uri": "https://localhost:8080/"
        },
        "id": "9jOVEtsBK3qy",
        "outputId": "d4763ad6-306a-4615-c263-24a286adb008"
      },
      "execution_count": 177,
      "outputs": [
        {
          "output_type": "execute_result",
          "data": {
            "text/plain": [
              "torch.Size([1, 512, 42, 63])"
            ]
          },
          "metadata": {},
          "execution_count": 177
        }
      ]
    },
    {
      "cell_type": "code",
      "source": [
        "\"\"\"\n",
        "Encoding\n",
        "\n",
        "Args:\n",
        "    D: dimension of the features or feature channels\n",
        "    K: number of codeswords\n",
        "\n",
        "Output:\n",
        "    E: output encoders, {e_1, ..., e_K}\n",
        "    여기서 D = 512, k = 59\n",
        "\"\"\"\n",
        "# BxDxHxW => Bx(HW)xD\n",
        "X = en.view(1, 512, -1).transpose(1, 2).contiguous()\n",
        "X.shape"
      ],
      "metadata": {
        "colab": {
          "base_uri": "https://localhost:8080/"
        },
        "id": "cND8gTd0GWc3",
        "outputId": "cbd13c64-302e-4e86-8bd7-e45183ce2812"
      },
      "execution_count": 178,
      "outputs": [
        {
          "output_type": "execute_result",
          "data": {
            "text/plain": [
              "torch.Size([1, 2646, 512])"
            ]
          },
          "metadata": {},
          "execution_count": 178
        }
      ]
    },
    {
      "cell_type": "code",
      "source": [
        "from encoding.functions import scaled_l2, aggregate, pairwise_cosine\n",
        "\n",
        "# assignment weights BxNxK\n",
        "A = F.softmax(scaled_l2(X, model.head.encmodule.encoding[3].codewords, model.head.encmodule.encoding[3].scale), dim=2)\n",
        "# aggregate\n",
        "E = aggregate(A, X, model.head.encmodule.encoding[3].codewords)"
      ],
      "metadata": {
        "id": "dQ9M-q4BGqnh"
      },
      "execution_count": 179,
      "outputs": []
    },
    {
      "cell_type": "code",
      "source": [
        "model.head.encmodule.encoding[3].codewords.shape, model.head.encmodule.encoding[3].scale.shape"
      ],
      "metadata": {
        "colab": {
          "base_uri": "https://localhost:8080/"
        },
        "id": "fSDYviyeJChp",
        "outputId": "bc8ab80a-8418-4750-bb6b-f3a6e0e1b05d"
      },
      "execution_count": 180,
      "outputs": [
        {
          "output_type": "execute_result",
          "data": {
            "text/plain": [
              "(torch.Size([32, 512]), torch.Size([32]))"
            ]
          },
          "metadata": {},
          "execution_count": 180
        }
      ]
    },
    {
      "cell_type": "code",
      "source": [
        "A.shape, E.shape"
      ],
      "metadata": {
        "colab": {
          "base_uri": "https://localhost:8080/"
        },
        "id": "VlIN8VEtH_Rx",
        "outputId": "7bc25130-8efc-4009-bf0b-54332a9682be"
      },
      "execution_count": 181,
      "outputs": [
        {
          "output_type": "execute_result",
          "data": {
            "text/plain": [
              "(torch.Size([1, 2646, 32]), torch.Size([1, 32, 512]))"
            ]
          },
          "metadata": {},
          "execution_count": 181
        }
      ]
    },
    {
      "cell_type": "code",
      "source": [
        "# .mean() 까지 마무리\n",
        "en = model.head.encmodule.encoding[4:](E)\n",
        "en.shape"
      ],
      "metadata": {
        "colab": {
          "base_uri": "https://localhost:8080/"
        },
        "id": "A-Nm3BBEKr4s",
        "outputId": "28461470-8c4b-46f7-a7da-dbfcfbec9725"
      },
      "execution_count": 182,
      "outputs": [
        {
          "output_type": "execute_result",
          "data": {
            "text/plain": [
              "torch.Size([1, 512])"
            ]
          },
          "metadata": {},
          "execution_count": 182
        }
      ]
    },
    {
      "cell_type": "code",
      "source": [
        "b, c, _, _ = feat.size()\n",
        "gamma = model.head.encmodule.fc(en)\n",
        "y = gamma.view(b,c,1,1)\n",
        "\n",
        "outputs = [F.relu_(feat + feat * y)]\n",
        "outputs.append(model.head.encmodule.selayer(en))\n",
        "\n",
        "print(outputs[0].shape, outputs[1].shape)"
      ],
      "metadata": {
        "colab": {
          "base_uri": "https://localhost:8080/"
        },
        "id": "p7i3OCjl_Qdw",
        "outputId": "17c8f0b0-b082-448f-f470-b25b81a34d31"
      },
      "execution_count": 183,
      "outputs": [
        {
          "output_type": "stream",
          "name": "stdout",
          "text": [
            "torch.Size([1, 512, 42, 63]) torch.Size([1, 59])\n"
          ]
        }
      ]
    },
    {
      "cell_type": "markdown",
      "source": [
        "outputs[0] 은 segmentation으로, outputs[1] 은 classification으로 간다."
      ],
      "metadata": {
        "id": "WvP16Ax7dLL8"
      }
    },
    {
      "cell_type": "markdown",
      "source": [
        "### (다시) EncHead"
      ],
      "metadata": {
        "id": "UPX3Cu1fDPH0"
      }
    },
    {
      "cell_type": "code",
      "source": [
        "outputs[0] = model.head.conv6(outputs[0])"
      ],
      "metadata": {
        "id": "TF-uSiWOPENj"
      },
      "execution_count": 184,
      "outputs": []
    },
    {
      "cell_type": "code",
      "source": [
        "outputs[0].shape"
      ],
      "metadata": {
        "colab": {
          "base_uri": "https://localhost:8080/"
        },
        "id": "Z_Mj565sPJTC",
        "outputId": "bbb52f08-7ef8-4343-ea97-e598fbf1d566"
      },
      "execution_count": 185,
      "outputs": [
        {
          "output_type": "execute_result",
          "data": {
            "text/plain": [
              "torch.Size([1, 59, 42, 63])"
            ]
          },
          "metadata": {},
          "execution_count": 185
        }
      ]
    },
    {
      "cell_type": "markdown",
      "source": [
        "### (다시) EncNet"
      ],
      "metadata": {
        "id": "rwbzmD63PLHA"
      }
    },
    {
      "cell_type": "code",
      "source": [
        "x = outputs"
      ],
      "metadata": {
        "id": "T2vZSNM_PQBH"
      },
      "execution_count": 186,
      "outputs": []
    },
    {
      "cell_type": "code",
      "source": [
        "import torch.nn.functional as F\n",
        "x[0] = F.interpolate(x[0], imsize)"
      ],
      "metadata": {
        "id": "yZ226bwfu9eX"
      },
      "execution_count": 187,
      "outputs": []
    },
    {
      "cell_type": "code",
      "source": [
        "for i in x:\n",
        "  print(i.shape)"
      ],
      "metadata": {
        "colab": {
          "base_uri": "https://localhost:8080/"
        },
        "id": "P9BXxREtvPwo",
        "outputId": "9e00e8e6-9ae5-41f1-9faa-b2e2ccf4c842"
      },
      "execution_count": 188,
      "outputs": [
        {
          "output_type": "stream",
          "name": "stdout",
          "text": [
            "torch.Size([1, 59, 333, 500])\n",
            "torch.Size([1, 59])\n"
          ]
        }
      ]
    },
    {
      "cell_type": "code",
      "source": [
        "from encoding.utils import batch_pix_accuracy, batch_intersection_union\n",
        "\n",
        "pred = x\n",
        "pred = pred[0]"
      ],
      "metadata": {
        "id": "njroC3xZvTWH"
      },
      "execution_count": 189,
      "outputs": []
    },
    {
      "cell_type": "code",
      "source": [
        "# Make prediction\n",
        "output = pred\n",
        "predict = torch.max(output, 1)[1].cpu().numpy() + 1\n",
        "\n",
        "# Get color pallete for visualization\n",
        "mask = encoding.utils.get_mask_pallete(predict, 'pascal_voc')\n",
        "mask.save('output_final.png')"
      ],
      "metadata": {
        "id": "3NRUby8HxE7I"
      },
      "execution_count": 190,
      "outputs": []
    },
    {
      "cell_type": "code",
      "source": [
        "pred.shape"
      ],
      "metadata": {
        "colab": {
          "base_uri": "https://localhost:8080/"
        },
        "id": "_FFB1jQ_xNYH",
        "outputId": "e6ad7e60-4aec-47ee-9b57-c3fb6c25e77f"
      },
      "execution_count": 84,
      "outputs": [
        {
          "output_type": "execute_result",
          "data": {
            "text/plain": [
              "torch.Size([1, 59, 333, 500])"
            ]
          },
          "metadata": {},
          "execution_count": 84
        }
      ]
    },
    {
      "cell_type": "code",
      "source": [
        "model.evaluate(img).shape"
      ],
      "metadata": {
        "colab": {
          "base_uri": "https://localhost:8080/"
        },
        "id": "eUp1hIGSy8VA",
        "outputId": "1ee806f2-e69a-4e76-e6aa-f20667d3a1d5"
      },
      "execution_count": 85,
      "outputs": [
        {
          "output_type": "execute_result",
          "data": {
            "text/plain": [
              "torch.Size([1, 59, 333, 500])"
            ]
          },
          "metadata": {},
          "execution_count": 85
        }
      ]
    },
    {
      "cell_type": "code",
      "source": [
        "plt.imshow(predict[0])"
      ],
      "metadata": {
        "colab": {
          "base_uri": "https://localhost:8080/",
          "height": 287
        },
        "id": "JZG2uO04zAFX",
        "outputId": "8cc06d8c-eb3a-4c02-ad34-dbd3f0b16859"
      },
      "execution_count": 87,
      "outputs": [
        {
          "output_type": "execute_result",
          "data": {
            "text/plain": [
              "<matplotlib.image.AxesImage at 0x7fd812118150>"
            ]
          },
          "metadata": {},
          "execution_count": 87
        },
        {
          "output_type": "display_data",
          "data": {
            "text/plain": [
              "<Figure size 432x288 with 1 Axes>"
            ],
            "image/png": "[encoded data removed]"
          },
          "metadata": {
            "needs_background": "light"
          }
        }
      ]
    },
    {
      "cell_type": "code",
      "source": [
        "predict"
      ],
      "metadata": {
        "colab": {
          "base_uri": "https://localhost:8080/"
        },
        "id": "yk2eeG4l0C3w",
        "outputId": "bb0f2aee-ed0c-4c56-ed54-c38e61105d33"
      },
      "execution_count": 239,
      "outputs": [
        {
          "output_type": "execute_result",
          "data": {
            "text/plain": [
              "array([[[47, 47, 47, ..., 47, 47, 47],\n",
              "        [47, 47, 47, ..., 47, 47, 47],\n",
              "        [47, 47, 47, ..., 47, 47, 47],\n",
              "        ...,\n",
              "        [31, 31, 31, ..., 29, 29, 29],\n",
              "        [31, 31, 31, ..., 29, 29, 29],\n",
              "        [31, 31, 31, ..., 29, 29, 29]]])"
            ]
          },
          "metadata": {},
          "execution_count": 239
        }
      ]
    },
    {
      "cell_type": "code",
      "source": [
        "predict.shape"
      ],
      "metadata": {
        "colab": {
          "base_uri": "https://localhost:8080/"
        },
        "id": "7lljAggiZOJX",
        "outputId": "ea506eec-cbbe-4210-88fd-b93dde934c7d"
      },
      "execution_count": 240,
      "outputs": [
        {
          "output_type": "execute_result",
          "data": {
            "text/plain": [
              "(1, 333, 500)"
            ]
          },
          "metadata": {},
          "execution_count": 240
        }
      ]
    },
    {
      "cell_type": "code",
      "source": [
        ""
      ],
      "metadata": {
        "id": "q87JnhEddrH3"
      },
      "execution_count": null,
      "outputs": []
    }
  ]
}